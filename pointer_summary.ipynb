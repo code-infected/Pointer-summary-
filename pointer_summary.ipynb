{
  "cells": [
    {
      "cell_type": "markdown",
      "metadata": {
        "id": "view-in-github",
        "colab_type": "text"
      },
      "source": [
        "<a href=\"https://colab.research.google.com/github/code-infected/Pointer-summary-/blob/main/pointer_summary.ipynb\" target=\"_parent\"><img src=\"https://colab.research.google.com/assets/colab-badge.svg\" alt=\"Open In Colab\"/></a>"
      ]
    },
    {
      "cell_type": "code",
      "execution_count": null,
      "metadata": {
        "id": "cnIYyHPeAVUj"
      },
      "outputs": [],
      "source": [
        "!pip install torch torchvision\n",
        "!pip install pytorch-nlp\n",
        "!pip install transformers\n",
        "!pip install datasets transformers[sentencepiece]\n",
        "!pip install sentencepiece\n",
        "!pip install transformers tensorflow tensorflow_datasets\n",
        "!pip install numpy\n",
        "\n",
        "\n"
      ]
    },
    {
      "cell_type": "code",
      "execution_count": null,
      "metadata": {
        "id": "PwUiSggbAw91"
      },
      "outputs": [],
      "source": [
        "import tensorflow as tf\n",
        "import tensorflow_datasets as tfds\n",
        "from transformers import GPT2LMHeadModel, GPT2Tokenizer\n",
        "\n",
        "tokenizer = GPT2Tokenizer.from_pretrained(\"gpt2\")\n",
        "tokenizer.add_special_tokens({'pad_token': '[PAD]'})\n",
        "\n",
        "dataset = tfds.load(\"cnn_dailymail\", split=\"train[:10%]\")\n",
        "\n",
        "def preprocess_data(data):\n",
        "    article = data[\"article\"].numpy().decode(\"utf-8\")\n",
        "    summary = data[\"highlights\"].numpy().decode(\"utf-8\")\n",
        "    return article, summary\n",
        "\n",
        "max_seq_length = 512\n",
        "tokenized_data = [tokenizer.encode(summary, padding=\"max_length\", max_length=max_seq_length)\n",
        "                  for _, summary in map(preprocess_data, dataset)]\n",
        "\n",
        "padding_mask = [tf.cast(tokens != tokenizer.pad_token_id, tf.float32) for tokens in tokenized_data]\n",
        "\n",
        "train_dataset = tf.data.Dataset.from_tensor_slices(\n",
        "    ({\"input_ids\": tokenized_data[:int(0.8 * len(tokenized_data))],\n",
        "      \"attention_mask\": padding_mask[:int(0.8 * len(padding_mask))]},\n",
        "     {\"labels\": tokenized_data[:int(0.8 * len(tokenized_data))]}))\n",
        "\n",
        "model = GPT2LMHeadModel.from_pretrained(\"gpt2\")\n",
        "optimizer = tf.keras.optimizers.Adam(learning_rate=1e-4)\n",
        "\n",
        "num_epochs = 5\n",
        "for epoch in range(num_epochs):\n",
        "    total_loss = 0\n",
        "    num_batches = 0\n",
        "\n",
        "    for batch in train_dataset:\n",
        "        with tf.GradientTape() as tape:\n",
        "            inputs = batch[0][\"input_ids\"]\n",
        "            attention_mask = batch[0][\"attention_mask\"]\n",
        "            #inputs = tf.ensure_shape(inputs, [None, max_seq_length])\n",
        "            labels = inputs[:, 1:]\n",
        "            attention_mask_labels = attention_mask[:, 1:]\n",
        "\n",
        "            outputs = model(inputs, attention_mask=attention_mask, labels=labels)\n",
        "            loss = outputs.loss\n",
        "\n",
        "        gradients = tape.gradient(loss, model.trainable_variables)\n",
        "        optimizer.apply_gradients(zip(gradients, model.trainable_variables))\n",
        "\n",
        "        total_loss += loss\n",
        "        num_batches += 1\n",
        "\n",
        "    average_loss = total_loss / num_batches\n",
        "    print(f\"Epoch {epoch+1}/{num_epochs}, Average Loss: {average_loss}\")\n",
        "\n",
        "prompt = \"This is a news article about the latest developments in the COVID-19 pandemic.\"\n",
        "input_ids = tokenizer.encode(prompt, padding=\"max_length\", max_length=max_seq_length, return_tensors=\"tf\")\n",
        "generated_summary = model.generate(input_ids.numpy(), max_length=100, num_return_sequences=1, no_repeat_ngram_size=2)\n",
        "\n",
        "summary = tokenizer.decode(generated_summary[0], skip_special_tokens=True)\n",
        "print(\"Generated Summary:\")\n",
        "print(summary)\n"
      ]
    }
  ],
  "metadata": {
    "accelerator": "TPU",
    "colab": {
      "provenance": [],
      "authorship_tag": "ABX9TyPu0LJNEK6HPZ6wwvonrpbQ",
      "include_colab_link": true
    },
    "kernelspec": {
      "display_name": "Python 3",
      "name": "python3"
    },
    "language_info": {
      "name": "python"
    }
  },
  "nbformat": 4,
  "nbformat_minor": 0
}